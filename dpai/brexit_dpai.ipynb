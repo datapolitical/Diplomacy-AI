{
 "cells": [
  {
   "cell_type": "code",
   "execution_count": 1,
   "metadata": {},
   "outputs": [],
   "source": [
    "import numpy as np"
   ]
  },
  {
   "cell_type": "code",
   "execution_count": 2,
   "metadata": {},
   "outputs": [],
   "source": [
    "cly = [1,1,1,0,0,0]\n",
    "edi = [1,1,1,1,0,0]\n",
    "lpl = [1,1,1,1,1,0]\n",
    "yor = [0,1,1,1,1,1]\n",
    "wal = [0,0,1,1,1,1]\n",
    "lon = [0,0,0,1,1,1]\n",
    "\n",
    "connections = np.array([cly, edi, lpl, yor, wal, lon])"
   ]
  },
  {
   "cell_type": "code",
   "execution_count": 3,
   "metadata": {},
   "outputs": [],
   "source": [
    "army_cly = [0,0,0]\n",
    "army_edi = [1,0,0]\n",
    "army_lpl = [0,1,0]\n",
    "army_yor = [0,0,0]\n",
    "army_wal = [0,0,0]\n",
    "army_lon = [0,0,1]\n",
    "\n",
    "army_location = np.array([army_cly, army_edi, army_lpl, army_yor, army_wal, army_lon])"
   ]
  },
  {
   "cell_type": "code",
   "execution_count": 4,
   "metadata": {},
   "outputs": [
    {
     "data": {
      "text/plain": [
       "array([[0, 0, 0],\n",
       "       [1, 0, 0],\n",
       "       [0, 1, 0],\n",
       "       [0, 0, 0],\n",
       "       [0, 0, 0],\n",
       "       [0, 0, 1]])"
      ]
     },
     "execution_count": 4,
     "metadata": {},
     "output_type": "execute_result"
    }
   ],
   "source": [
    "army_location"
   ]
  },
  {
   "cell_type": "code",
   "execution_count": 5,
   "metadata": {},
   "outputs": [],
   "source": [
    "_edi = [1,0,0]\n",
    "_lpl = [0,1,0]\n",
    "_lon = [0,0,1]\n",
    "\n",
    "supply_control = np.array([_edi, _lpl, _lon])"
   ]
  },
  {
   "cell_type": "code",
   "execution_count": 6,
   "metadata": {},
   "outputs": [
    {
     "data": {
      "text/plain": [
       "(array([[1, 1, 1, 0, 0, 0],\n",
       "        [1, 1, 1, 1, 0, 0],\n",
       "        [1, 1, 1, 1, 1, 0],\n",
       "        [0, 1, 1, 1, 1, 1],\n",
       "        [0, 0, 1, 1, 1, 1],\n",
       "        [0, 0, 0, 1, 1, 1]]), array([[0, 0, 0],\n",
       "        [1, 0, 0],\n",
       "        [0, 1, 0],\n",
       "        [0, 0, 0],\n",
       "        [0, 0, 0],\n",
       "        [0, 0, 1]]), array([[1, 0, 0],\n",
       "        [0, 1, 0],\n",
       "        [0, 0, 1]]))"
      ]
     },
     "execution_count": 6,
     "metadata": {},
     "output_type": "execute_result"
    }
   ],
   "source": [
    "connections, army_location, supply_control"
   ]
  },
  {
   "cell_type": "code",
   "execution_count": 7,
   "metadata": {},
   "outputs": [],
   "source": [
    "def get_move(country, order):\n",
    "    \"\"\" num_countries * orders (actions)\n",
    "    row = country\n",
    "    col 0 = move (moving, holding, attacking)\n",
    "    col 1 = support defender\n",
    "    col 2 = support attacker\n",
    "    \n",
    "    TODO: need to add support for players rather than support for location\n",
    "     - maybe try 18 length vector: 6 to move, 6 location from,6 location too\n",
    "    \"\"\"\n",
    "    move_array = np.array([[0]*3]*6)\n",
    "    move_array[country, order] = 1\n",
    "    return move_array"
   ]
  },
  {
   "cell_type": "code",
   "execution_count": 31,
   "metadata": {},
   "outputs": [
    {
     "data": {
      "text/plain": [
       "array([[0, 0, 0],\n",
       "       [0, 0, 0],\n",
       "       [0, 0, 0],\n",
       "       [1, 0, 0],\n",
       "       [0, 0, 0],\n",
       "       [0, 0, 0]])"
      ]
     },
     "execution_count": 31,
     "metadata": {},
     "output_type": "execute_result"
    }
   ],
   "source": [
    "get_move(3, 0)"
   ]
  },
  {
   "cell_type": "code",
   "execution_count": 52,
   "metadata": {},
   "outputs": [],
   "source": [
    "def make_move(player, move, connections, army_location, supply_control):\n",
    "    \"\"\" A move means moving the army.\n",
    "    player: for form [0,0,1] means third player\n",
    "    move: specified in get_move\n",
    "    connections: board constant\n",
    "    army_location: num_countries * num_players. One hot encoding for player army in country\n",
    "    supply_control: num_supply_centres * num_players. One hot encoding for player army in country. \n",
    "                    Only updated when player moves through\n",
    "    return army_location and supply_control\n",
    "    \"\"\"\n",
    "    \n",
    "    index = np.argmax(player)\n",
    "    move_country = max(np.argmax(move, axis=0))\n",
    "    move_type = max(np.argmax(move, axis=1))\n",
    "    print(index, move_country, move_type)\n",
    "    if connections[move_country, index]:\n",
    "        print(\"valid\")\n",
    "    else:\n",
    "        print(\"not valid\")\n",
    "        \n",
    "    \n",
    "    \n",
    "    return army_location, supply_control\n",
    "    "
   ]
  },
  {
   "cell_type": "code",
   "execution_count": 53,
   "metadata": {},
   "outputs": [
    {
     "name": "stdout",
     "output_type": "stream",
     "text": [
      "2 5 0\n",
      "not valid\n"
     ]
    },
    {
     "data": {
      "text/plain": [
       "(array([[0, 0, 0],\n",
       "        [1, 0, 0],\n",
       "        [0, 1, 0],\n",
       "        [0, 0, 0],\n",
       "        [0, 0, 0],\n",
       "        [0, 0, 1]]), array([[1, 0, 0],\n",
       "        [0, 1, 0],\n",
       "        [0, 0, 1]]))"
      ]
     },
     "execution_count": 53,
     "metadata": {},
     "output_type": "execute_result"
    }
   ],
   "source": [
    "move = get_move(5, 0)\n",
    "make_move([0,0,2], move, connections, army_location, supply_control)"
   ]
  },
  {
   "cell_type": "code",
   "execution_count": 54,
   "metadata": {},
   "outputs": [
    {
     "data": {
      "text/plain": [
       "array([[1, 1, 1, 0, 0, 0],\n",
       "       [1, 1, 1, 1, 0, 0],\n",
       "       [1, 1, 1, 1, 1, 0],\n",
       "       [0, 1, 1, 1, 1, 1],\n",
       "       [0, 0, 1, 1, 1, 1],\n",
       "       [0, 0, 0, 1, 1, 1]])"
      ]
     },
     "execution_count": 54,
     "metadata": {},
     "output_type": "execute_result"
    }
   ],
   "source": [
    "connections"
   ]
  },
  {
   "cell_type": "code",
   "execution_count": null,
   "metadata": {},
   "outputs": [],
   "source": []
  }
 ],
 "metadata": {
  "kernelspec": {
   "display_name": "Python 3",
   "language": "python",
   "name": "python3"
  },
  "language_info": {
   "codemirror_mode": {
    "name": "ipython",
    "version": 3
   },
   "file_extension": ".py",
   "mimetype": "text/x-python",
   "name": "python",
   "nbconvert_exporter": "python",
   "pygments_lexer": "ipython3",
   "version": "3.6.8"
  }
 },
 "nbformat": 4,
 "nbformat_minor": 2
}
